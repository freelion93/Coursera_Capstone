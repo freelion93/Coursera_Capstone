{
 "cells": [
  {
   "cell_type": "markdown",
   "metadata": {},
   "source": [
    "# IBM Applied Data Science Capstone Project"
   ]
  },
  {
   "cell_type": "markdown",
   "metadata": {},
   "source": [
    "## Introduction"
   ]
  },
  {
   "cell_type": "markdown",
   "metadata": {},
   "source": [
    "### Business problem"
   ]
  },
  {
   "cell_type": "markdown",
   "metadata": {},
   "source": [
    "Every big city such as **New York**, **Berlin** or even **Moscow** is huge and multicultural. People that living and working there coming from all around the world. They have differencies not only in culture, but in beliefs as well. What can make happy some can insult the others. Therefore, the customers interests in products could be very different.\n",
    "\n",
    "Another call to businesses dropped by the well-off level of the citizens. The amplitude of wealth in these cities is covering all possible ranges. It can happen that people in some districts would be too rich for standart grade product and willing to have only the premium one, while in other the poverty level will motivate the people to make saving every single cent.\n",
    "\n",
    "Additionally to that here many other factors that should be taken in mind: the citizens age, city criminal activity rate, city financial sources, the temperature and weather data, geographical potential and many others.\n",
    "\n",
    "So for some specific business (e.g. network cloth store like H&M) it could be easy to find a good spot for opening another shop for their branch. Meanwhile for some others (e.g. coffee shop, newspaper stand, small grocery, etc) it would be not a trivial task without conducted research. "
   ]
  },
  {
   "cell_type": "markdown",
   "metadata": {},
   "source": [
    "### Choosen one to be solved"
   ]
  },
  {
   "cell_type": "markdown",
   "metadata": {},
   "source": [
    "So in this research we are presuming that we or our customer is a startup company which buisness is the bike sharing. Bike sharing business is getting more and more popular each year. Hence, there are many competitors in this field. As a start-up we can't afford to place stations randomly in every city neighborhood. This way we have to find the best starting region and possible regions for later expand of our business. In this case we will analyse the biggest city in **Canada - Toronto**, which by the way comfortably located on the south of the country and that making biking there more suitable."
   ]
  },
  {
   "cell_type": "markdown",
   "metadata": {},
   "source": [
    "### Data sources"
   ]
  },
  {
   "cell_type": "markdown",
   "metadata": {},
   "source": [
    "To do this research we have to define which kinds of data we need to analyse the current situation. \n",
    "\n",
    "First of all we must take in a count the security aspect to not ruin the business in first few hours with a bunch of accidents and bike thefts. Therefore we must have the data about crime activities and accidents in the city.\n",
    "\n",
    "For collecting **_The accident data_** in this city we will be using the next datasets provided by the [Toronto Police Service](http://data.torontopolice.on.ca/):\n",
    "\n",
    "* [Accidents involving cyclists, where people got Killed or became Seriously Injured in a period 2007-2017](http://data.torontopolice.on.ca/datasets/55d5b9f7af7d4710bc98743b2c005f02_0)\n",
    "* [Bicycle Thefts in period 2014-2017](http://data.torontopolice.on.ca/datasets/16f2b8a1c76547c69fec14b7f8541ffc_0)\n",
    "\n",
    "We need to know where in the city users can stop and park their rented bikes indoor or outdoor. So for this we need to get data about parking spots of both types.\n",
    "\n",
    "For collecting **_The parking data_** in this city we will be using the next datasets provided by the [City of Toronto Open Data Portal](https://portal0.cf.opendata.inter.sandbox-toronto.ca/):\n",
    "\n",
    "* [Bicycle Parking - High Capacity (Outdoor)](https://portal0.cf.opendata.inter.sandbox-toronto.ca/dataset/bicycle-parking-high-capacity-outdoor/)\n",
    "* [Bicycle Parking - Bike Stations (Indoor)](https://portal0.cf.opendata.inter.sandbox-toronto.ca/dataset/bicycle-parking-bike-stations-indoor/)\n",
    "\n",
    "The next what we have to care about is our competitors. So to be not throw out of the game by opponents we would try not to place our bike statiuon nearby existing ones. For collecting the data about existing bike stations we will be using Foursquare API. We can use it as well for collecting the information about the infrastructure in the areas. \n",
    "\n",
    "For collecting **_The competitors stations data_** and **_The data about infrastructure_** we will be using [Foursquare API](https://developer.foursquare.com/)\n",
    "\n",
    "\n",
    "For collecting **_The information about the neigborhoods splitting_** we will be using data from the [Torronto neigborhood guide website](http://www.torontoneighbourhoods.net/)"
   ]
  },
  {
   "cell_type": "code",
   "execution_count": null,
   "metadata": {},
   "outputs": [],
   "source": []
  }
 ],
 "metadata": {
  "kernelspec": {
   "display_name": "Python 3",
   "language": "python",
   "name": "python3"
  },
  "language_info": {
   "codemirror_mode": {
    "name": "ipython",
    "version": 3
   },
   "file_extension": ".py",
   "mimetype": "text/x-python",
   "name": "python",
   "nbconvert_exporter": "python",
   "pygments_lexer": "ipython3",
   "version": "3.7.1"
  }
 },
 "nbformat": 4,
 "nbformat_minor": 2
}
