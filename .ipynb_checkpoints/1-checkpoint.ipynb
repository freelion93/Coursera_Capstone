{
 "cells": [
  {
   "cell_type": "markdown",
   "metadata": {},
   "source": [
    "# IBM Applied Data Science Capstone Project"
   ]
  },
  {
   "cell_type": "markdown",
   "metadata": {},
   "source": [
    "## Introduction"
   ]
  },
  {
   "cell_type": "markdown",
   "metadata": {},
   "source": [
    "### Business problem"
   ]
  },
  {
   "cell_type": "markdown",
   "metadata": {},
   "source": [
    "Every big city such as **New York**, **Berlin** or even **Moscow** is huge and multicultural. People that living and working there coming from all around the world. They have differencies not only in culture, but in beliefs as well. What can make happy some can insult the others. Therefore, the customers interests in products could be very different.\n",
    "\n",
    "Another call to businesses dropped by the well-off level of the citizens. The amplitude of wealth in these cities is covering all possible ranges. It can happen that people in some districts would be too rich for standart grade product and willing to have only the premium one, while in other the poverty level will motivate the people to make saving every single cent.\n",
    "\n",
    "Additionally to that here many other factors that should be taken in mind: the citizens age, city criminal activity rate, city financial sources, the temperature and weather data, geographical potential and many others.\n",
    "\n",
    "So for some specific business (e.g. network cloth store like H&M) it could be easy to find a good spot for opening another shop for their branch. Meanwhile for some others (e.g. coffee shop, newspaper stand, small grocery, etc) it would be not a trivial task without conducted research. "
   ]
  },
  {
   "cell_type": "markdown",
   "metadata": {},
   "source": [
    "### Choosen one to be solved"
   ]
  },
  {
   "cell_type": "markdown",
   "metadata": {},
   "source": [
    "So in this research we are presuming that we or our customer is a startup company which buisness is the bike sharing. We will analyse two big cities in Canada to decide where for us is better to place few bike stations. The two big cities which locations are nearby each other are **Toronto** and **Montreal**."
   ]
  },
  {
   "cell_type": "code",
   "execution_count": null,
   "metadata": {},
   "outputs": [],
   "source": []
  }
 ],
 "metadata": {
  "kernelspec": {
   "display_name": "Python 3",
   "language": "python",
   "name": "python3"
  },
  "language_info": {
   "codemirror_mode": {
    "name": "ipython",
    "version": 3
   },
   "file_extension": ".py",
   "mimetype": "text/x-python",
   "name": "python",
   "nbconvert_exporter": "python",
   "pygments_lexer": "ipython3",
   "version": "3.7.1"
  }
 },
 "nbformat": 4,
 "nbformat_minor": 2
}
